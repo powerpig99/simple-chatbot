{
 "cells": [
  {
   "cell_type": "code",
   "execution_count": 1,
   "metadata": {},
   "outputs": [
    {
     "name": "stdout",
     "output_type": "stream",
     "text": [
      "NLTK setup complete!\n"
     ]
    }
   ],
   "source": [
    "import nltk\n",
    "from nltk.tokenize import word_tokenize\n",
    "from nltk.stem import WordNetLemmatizer\n",
    "\n",
    "lemmatizer = WordNetLemmatizer()\n",
    "print(\"NLTK setup complete!\")"
   ]
  },
  {
   "cell_type": "code",
   "execution_count": 2,
   "metadata": {},
   "outputs": [
    {
     "name": "stdout",
     "output_type": "stream",
     "text": [
      "Hello! How can I help you?\n"
     ]
    }
   ],
   "source": [
    "responses = {\n",
    "    \"hello\": \"Hi there!\",\n",
    "    \"hi\": \"Hello! How can I help you?\",\n",
    "    \"how are you\": \"I'm doing great, thanks! How about you?\",\n",
    "    \"bye\": \"Goodbye!\",\n",
    "    \"what is your name\": \"I'm Grok, nice to meet you!\",\n",
    "    \"default\": \"Sorry, I don’t understand that. Try something else!\"\n",
    "}\n",
    "\n",
    "print(responses[\"hi\"])"
   ]
  },
  {
   "cell_type": "code",
   "execution_count": 3,
   "metadata": {},
   "outputs": [
    {
     "name": "stdout",
     "output_type": "stream",
     "text": [
      "['hello', ',', 'how', 'are', 'you', 'running', '?']\n"
     ]
    }
   ],
   "source": [
    "def process_input(user_input):\n",
    "    tokens = word_tokenize(user_input.lower())\n",
    "    tokens = [lemmatizer.lemmatize(token) for token in tokens]\n",
    "    return tokens\n",
    "\n",
    "print(process_input(\"Hello, how are you running?\"))"
   ]
  },
  {
   "cell_type": "code",
   "execution_count": 4,
   "metadata": {},
   "outputs": [
    {
     "name": "stdout",
     "output_type": "stream",
     "text": [
      "I'm doing great, thanks! How about you?\n"
     ]
    }
   ],
   "source": [
    "def get_response(tokens):\n",
    "    input_str = \" \".join(tokens)\n",
    "    for pattern, response in responses.items():\n",
    "        if pattern in input_str:\n",
    "            return response\n",
    "    return responses[\"default\"]\n",
    "\n",
    "tokens = process_input(\"Hey, how are you today?\")\n",
    "print(get_response(tokens))"
   ]
  },
  {
   "cell_type": "code",
   "execution_count": 5,
   "metadata": {},
   "outputs": [
    {
     "name": "stdout",
     "output_type": "stream",
     "text": [
      "Chatbot: Hello! Type 'quit' to stop.\n",
      "Chatbot: Hello! How can I help you?\n",
      "Chatbot: I'm doing great, thanks! How about you?\n",
      "Chatbot: Bye!\n"
     ]
    }
   ],
   "source": [
    "print(\"Chatbot: Hello! Type 'quit' to stop.\")\n",
    "while True:\n",
    "    user_input = input(\"You: \")\n",
    "    if user_input.lower() == \"quit\":\n",
    "        print(\"Chatbot: Bye!\")\n",
    "        break\n",
    "    tokens = process_input(user_input)\n",
    "    response = get_response(tokens)\n",
    "    print(f\"Chatbot: {response}\")"
   ]
  },
  {
   "cell_type": "code",
   "execution_count": null,
   "metadata": {},
   "outputs": [],
   "source": []
  }
 ],
 "metadata": {
  "kernelspec": {
   "display_name": "chatbot_env",
   "language": "python",
   "name": "python3"
  },
  "language_info": {
   "codemirror_mode": {
    "name": "ipython",
    "version": 3
   },
   "file_extension": ".py",
   "mimetype": "text/x-python",
   "name": "python",
   "nbconvert_exporter": "python",
   "pygments_lexer": "ipython3",
   "version": "3.12.7"
  }
 },
 "nbformat": 4,
 "nbformat_minor": 2
}
